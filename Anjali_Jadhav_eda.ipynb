{
  "nbformat": 4,
  "nbformat_minor": 0,
  "metadata": {
    "colab": {
      "provenance": [],
      "authorship_tag": "ABX9TyPDlR4KTwPQ7M5THbwGUpqM",
      "include_colab_link": true
    },
    "kernelspec": {
      "name": "python3",
      "display_name": "Python 3"
    },
    "language_info": {
      "name": "python"
    }
  },
  "cells": [
    {
      "cell_type": "markdown",
      "metadata": {
        "id": "view-in-github",
        "colab_type": "text"
      },
      "source": [
        "<a href=\"https://colab.research.google.com/github/anjalijadhav002/Zeotap_Datascience_Task/blob/main/Anjali_Jadhav_eda.ipynb\" target=\"_parent\"><img src=\"https://colab.research.google.com/assets/colab-badge.svg\" alt=\"Open In Colab\"/></a>"
      ]
    },
    {
      "cell_type": "code",
      "execution_count": null,
      "metadata": {
        "id": "4Vuwm0pD6a39"
      },
      "outputs": [],
      "source": [
        "import pandas as pd\n",
        "import matplotlib.pyplot as plt\n",
        "import seaborn as sns\n",
        "\n",
        "customers = pd.read_csv(\"/content/Customers.csv\")\n",
        "products = pd.read_csv(\"/content/Products.csv\")\n",
        "transactions = pd.read_csv(\"/content/Transactions.csv\")\n",
        "\n",
        "print(\"Customers Dataset Overview:\")\n",
        "print(customers.head())\n",
        "\n",
        "print(\"\\nProducts Dataset Overview:\")\n",
        "print(products.head())\n",
        "\n",
        "print(\"\\nTransactions Dataset Overview:\")\n",
        "print(transactions.head())\n",
        "\n",
        "print(\"\\nMissing Values in Customers Dataset:\")\n",
        "print(customers.isnull().sum())\n",
        "\n",
        "print(\"\\nMissing Values in Products Dataset:\")\n",
        "print(products.isnull().sum())\n",
        "\n",
        "print(\"\\nMissing Values in Transactions Dataset:\")\n",
        "print(transactions.isnull().sum())\n",
        "\n",
        "plt.figure(figsize=(10, 5))\n",
        "sns.countplot(x='Region', data=customers, palette='viridis')\n",
        "plt.title(\"Customer Distribution by Region\")\n",
        "plt.xlabel(\"Region\")\n",
        "plt.ylabel(\"Number of Customers\")\n",
        "plt.xticks(rotation=45)\n",
        "plt.show()\n",
        "\n",
        "plt.figure(figsize=(10, 5))\n",
        "sns.countplot(x='Category', data=products, palette='coolwarm')\n",
        "plt.title(\"Product Distribution by Category\")\n",
        "plt.xlabel(\"Category\")\n",
        "plt.ylabel(\"Number of Products\")\n",
        "plt.xticks(rotation=45)\n",
        "plt.show()\n",
        "\n",
        "transactions['TransactionDate'] = pd.to_datetime(transactions['TransactionDate'])\n",
        "transactions_by_date = transactions.groupby('TransactionDate').size()\n",
        "\n",
        "plt.figure(figsize=(12, 6))\n",
        "transactions_by_date.plot()\n",
        "plt.title(\"Transactions Over Time\")\n",
        "plt.xlabel(\"Date\")\n",
        "plt.ylabel(\"Number of Transactions\")\n",
        "plt.grid()\n",
        "plt.show()\n",
        "\n",
        "top_customers = transactions.groupby('CustomerID')['TotalValue'].sum().nlargest(10)\n",
        "\n",
        "plt.figure(figsize=(10, 5))\n",
        "top_customers.plot(kind='bar', color='teal')\n",
        "plt.title(\"Top 10 Customers by Total Transaction Value\")\n",
        "plt.xlabel(\"CustomerID\")\n",
        "plt.ylabel(\"Total Value\")\n",
        "plt.show()\n",
        "\n",
        "top_products = transactions.groupby('ProductID')['Quantity'].sum().nlargest(10)\n",
        "\n",
        "plt.figure(figsize=(10, 5))\n",
        "top_products.plot(kind='bar', color='orange')\n",
        "plt.title(\"Top 10 Products by Quantity Sold\")\n",
        "plt.xlabel(\"ProductID\")\n",
        "plt.ylabel(\"Quantity Sold\")\n",
        "plt.show()\n",
        "\n",
        "\n",
        "avg_price_by_category = products.groupby('Category')['Price'].mean()\n",
        "\n",
        "plt.figure(figsize=(10, 5))\n",
        "avg_price_by_category.plot(kind='bar', color='purple')\n",
        "plt.title(\"Average Product Price by Category\")\n",
        "plt.xlabel(\"Category\")\n",
        "plt.ylabel(\"Average Price (USD)\")\n",
        "plt.show()\n",
        "\n",
        "\n",
        "print(\"\\nBusiness Insights:\")\n",
        "print(\"1. The majority of customers come from a specific region, highlighting a key target market.\")\n",
        "print(\"2. Some product categories dominate in sales, indicating popular products.\")\n",
        "print(\"3. Transaction activity shows seasonal trends, which can guide marketing campaigns.\")\n",
        "print(\"4. A small number of customers contribute significantly to total sales (Top 10 customers).\")\n",
        "print(\"5. Certain products are sold in bulk, which can indicate opportunities for promotional bundles.\")"
      ]
    }
  ]
}