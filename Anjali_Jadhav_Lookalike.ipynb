{
  "nbformat": 4,
  "nbformat_minor": 0,
  "metadata": {
    "colab": {
      "provenance": [],
      "authorship_tag": "ABX9TyMUpAFcWmR7h8zt1nmbLCsr",
      "include_colab_link": true
    },
    "kernelspec": {
      "name": "python3",
      "display_name": "Python 3"
    },
    "language_info": {
      "name": "python"
    }
  },
  "cells": [
    {
      "cell_type": "markdown",
      "metadata": {
        "id": "view-in-github",
        "colab_type": "text"
      },
      "source": [
        "<a href=\"https://colab.research.google.com/github/anjalijadhav002/Zeotap_Datascience_Task/blob/main/Anjali_Jadhav_Lookalike.ipynb\" target=\"_parent\"><img src=\"https://colab.research.google.com/assets/colab-badge.svg\" alt=\"Open In Colab\"/></a>"
      ]
    },
    {
      "cell_type": "code",
      "execution_count": 1,
      "metadata": {
        "colab": {
          "base_uri": "https://localhost:8080/"
        },
        "id": "MpxTati23yZ0",
        "outputId": "79f2a104-70be-47aa-eb96-cd37a7dcb620"
      },
      "outputs": [
        {
          "output_type": "stream",
          "name": "stdout",
          "text": [
            "Lookalike results saved to Anjali_Jadhav_Lookalike.csv.\n"
          ]
        }
      ],
      "source": [
        "import pandas as pd\n",
        "from sklearn.metrics.pairwise import cosine_similarity\n",
        "from sklearn.preprocessing import StandardScaler\n",
        "\n",
        "\n",
        "customers = pd.read_csv(\"/content/Customers.csv\")\n",
        "products = pd.read_csv(\"/content/Products.csv\")\n",
        "transactions = pd.read_csv(\"/content/Transactions.csv\")\n",
        "\n",
        "\n",
        "transactions_products = transactions.merge(products, on=\"ProductID\")\n",
        "customer_transactions = transactions_products.merge(customers, on=\"CustomerID\")\n",
        "\n",
        "\n",
        "customer_profile = customer_transactions.groupby(['CustomerID', 'ProductID']).agg({\n",
        "    'Quantity': 'sum',\n",
        "    'TotalValue': 'sum'\n",
        "}).reset_index()\n",
        "\n",
        "\n",
        "pivot_table = customer_profile.pivot_table(\n",
        "    index='CustomerID',\n",
        "    columns='ProductID',\n",
        "    values='Quantity',\n",
        "    fill_value=0\n",
        ")\n",
        "\n",
        "\n",
        "scaler = StandardScaler()\n",
        "pivot_normalized = scaler.fit_transform(pivot_table)\n",
        "pivot_normalized = pd.DataFrame(pivot_normalized, index=pivot_table.index, columns=pivot_table.columns)\n",
        "\n",
        "\n",
        "similarity_matrix = cosine_similarity(pivot_normalized)\n",
        "similarity_df = pd.DataFrame(similarity_matrix, index=pivot_table.index, columns=pivot_table.index)\n",
        "\n",
        "\n",
        "def get_top_3_lookalikes(customer_id):\n",
        "    if customer_id in similarity_df.index:\n",
        "        similar_customers = similarity_df[customer_id].sort_values(ascending=False)[1:4]  # Exclude self\n",
        "        return list(zip(similar_customers.index, similar_customers.values))\n",
        "    return []\n",
        "\n",
        "\n",
        "lookalike_results = {}\n",
        "for customer in customers['CustomerID'][:20]:\n",
        "    lookalike_results[customer] = get_top_3_lookalikes(customer)\n",
        "\n",
        "\n",
        "lookalike_df = pd.DataFrame.from_dict(lookalike_results, orient='index', columns=['Top_1', 'Top_2', 'Top_3'])\n",
        "\n",
        "lookalike_df.to_csv(\"Anjali_Jadhav_Lookalike.csv\", index_label=\"CustomerID\")\n",
        "print(\"Lookalike results saved to Anjali_Jadhav_Lookalike.csv.\")"
      ]
    }
  ]
}